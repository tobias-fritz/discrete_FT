{
 "cells": [
  {
   "cell_type": "markdown",
   "metadata": {},
   "source": [
    "**Fourier Transformation**\n",
    "\n",
    "\n"
   ]
  },
  {
   "cell_type": "markdown",
   "metadata": {},
   "source": [
    "\n"
   ]
  },
  {
   "cell_type": "code",
   "execution_count": 2,
   "metadata": {},
   "outputs": [],
   "source": [
    "from math import pi , exp\n",
    "\n",
    "import cv2 as cv\n",
    "import matplotlib.pyplot as plt\n",
    "import numpy as np\n"
   ]
  },
  {
   "cell_type": "markdown",
   "metadata": {},
   "source": [
    "**DFT of a vector**\n",
    "\n",
    "The discrete fourier transform of a vector *a* can be expressed as matrix-vector product of the vector *a* and a transformation matrix *W* with *W[k,j] = exp(2 x pi x i x j x k / N)*\n",
    "\n",
    "\n"
   ]
  },
  {
   "cell_type": "code",
   "execution_count": 3,
   "metadata": {},
   "outputs": [],
   "source": [
    "def DFT_1D(a, cutoff = 10 ):\n",
    "    \"\"\" Disctrete fourier transform of a 1D vectro with a transformation matrix W\n",
    "        param:\n",
    "        a       :np.array       :input vectro\n",
    "        cutoff  :int            :rounding cutoff for exp. function\n",
    "    \"\"\"\n",
    "    \n",
    "    N = len(a)\n",
    "    W = np.array([[np.exp((-2*pi*1j*i*j)/N)for j in range(N)] for i in range(N)])\n",
    "    a_t = a.dot(W)\n",
    "\n",
    "    return a_t"
   ]
  },
  {
   "cell_type": "code",
   "execution_count": 4,
   "metadata": {},
   "outputs": [],
   "source": [
    "def DFT_2D(A,cutoff = 10):\n",
    "\n",
    "        \n",
    "    N = A.shape[0]\n",
    "    M = A.shape[1]\n",
    "\n",
    "    W_n = np.array([[np.exp((-2*pi*1j*i*j)/N)for j in range(N)] for i in range(N)])\n",
    "    W_m = np.array([[np.exp((-2*pi*1j*i*j)/M)for j in range(M)] for i in range(M)])\n",
    "\n",
    "    a_t = A.dot(np.kron(W_n,W_m))\n",
    "\n",
    "    return a_t"
   ]
  },
  {
   "cell_type": "code",
   "execution_count": null,
   "metadata": {},
   "outputs": [],
   "source": [
    "[i*j for i,j in zip(range(3),range(3))]"
   ]
  },
  {
   "cell_type": "code",
   "execution_count": 5,
   "metadata": {},
   "outputs": [],
   "source": [
    "img_c1 = cv.imread(\"/Users/tobias/discrete_FT/duck_170690246-2.jpg\",0)\n"
   ]
  },
  {
   "cell_type": "code",
   "execution_count": null,
   "metadata": {},
   "outputs": [],
   "source": [
    "test = np.array([[1,1,1],[1,1,1],[1,1,1]])"
   ]
  },
  {
   "cell_type": "code",
   "execution_count": null,
   "metadata": {},
   "outputs": [],
   "source": [
    "img_c2 = DFT_2D(test)\n",
    "img_c22 = np.fft.fft(test)"
   ]
  },
  {
   "cell_type": "code",
   "execution_count": null,
   "metadata": {},
   "outputs": [],
   "source": [
    "np.round(img_c2,10)"
   ]
  },
  {
   "cell_type": "code",
   "execution_count": null,
   "metadata": {},
   "outputs": [],
   "source": [
    "img_c22"
   ]
  },
  {
   "cell_type": "code",
   "execution_count": 6,
   "metadata": {},
   "outputs": [],
   "source": [
    "img_c2 = DFT_2D(img_c1)"
   ]
  },
  {
   "cell_type": "code",
   "execution_count": null,
   "metadata": {},
   "outputs": [],
   "source": [
    "plt.imshow(img_c1,\"gray\"), plt.title (\"Original Image\")\n",
    "plt.show()\n",
    "plt.imshow(np.log(1+np.abs(img_c2)),\"gray\"), plt.title (\"Fourier Transform\")\n",
    "plt.show()\n"
   ]
  }
 ],
 "metadata": {
  "kernelspec": {
   "display_name": "Python 3.10.2 ('coderefinery')",
   "language": "python",
   "name": "python3"
  },
  "language_info": {
   "codemirror_mode": {
    "name": "ipython",
    "version": 3
   },
   "file_extension": ".py",
   "mimetype": "text/x-python",
   "name": "python",
   "nbconvert_exporter": "python",
   "pygments_lexer": "ipython3",
   "version": "3.10.2"
  },
  "orig_nbformat": 4,
  "vscode": {
   "interpreter": {
    "hash": "1a9294f31e37b07f028eab16c0ac6ad27b3a91e603b9560e65533d1883e7a680"
   }
  }
 },
 "nbformat": 4,
 "nbformat_minor": 2
}
