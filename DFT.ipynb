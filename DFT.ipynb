{
 "cells": [
  {
   "cell_type": "markdown",
   "metadata": {},
   "source": [
    "**Fourier Transformation**\n",
    "\n",
    "\n"
   ]
  },
  {
   "cell_type": "markdown",
   "metadata": {},
   "source": [
    "\n"
   ]
  },
  {
   "cell_type": "code",
   "execution_count": 1,
   "metadata": {},
   "outputs": [],
   "source": [
    "from math import pi , exp\n",
    "\n",
    "import cv2 as cv\n",
    "import matplotlib.pyplot as plt\n",
    "import numpy as np\n",
    "from numpy import newaxis\n"
   ]
  },
  {
   "cell_type": "markdown",
   "metadata": {},
   "source": [
    "**DFT of a vector**\n",
    "\n",
    "The discrete fourier transform of a vector *a* can be expressed as matrix-vector product of the vector *a* and a transformation matrix *W* with *W[k,j] = exp(2 x pi x i x j x k / N)*\n",
    "\n",
    "\n"
   ]
  },
  {
   "cell_type": "code",
   "execution_count": 2,
   "metadata": {},
   "outputs": [],
   "source": [
    "def DFT_1D(a, cutoff = 10 ):\n",
    "    \"\"\" Disctrete fourier transform of a 1D vectro with a transformation matrix W\n",
    "        param:\n",
    "        a       :np.array       :input vectro\n",
    "        cutoff  :int            :rounding cutoff for exp. function\n",
    "    \"\"\"\n",
    "    \n",
    "    N = len(a)\n",
    "    W = np.array([[np.exp((-2*pi*1j*i*j)/N)for j in range(N)] for i in range(N)])\n",
    "    a_t = a.dot(W)\n",
    "\n",
    "    return a_t"
   ]
  },
  {
   "cell_type": "code",
   "execution_count": 144,
   "metadata": {},
   "outputs": [],
   "source": [
    "def DFT_2D(A):\n",
    "\n",
    "    N, M = A.shape\n",
    "\n",
    "    X = np.zeros((N,M),dtype=complex)\n",
    "\n",
    "    for k in range(N):\n",
    "        for l in range(M):\n",
    "            expr = [[ A[n,m] * np.exp(-2 * pi * 1j *((k*n / N) + (l*m / M)) ) for m in range(M)] for n in range(N)]\n",
    "            X[k,l] = sum(sum(expr,[]))\n",
    "            \n",
    "    return X    \n",
    "\n",
    "def rev_DFT_2D(A):\n",
    "\n",
    "    N, M = A.shape\n",
    "\n",
    "    X = np.zeros((N,M),dtype=complex)\n",
    "\n",
    "    for k in range(N):\n",
    "        for l in range(M):\n",
    "            expr = [[ (1/N*M) *A[n,m] * np.exp(-2 * pi * 1j *((k*n / N) + (l*m / M)) ) for m in range(M)] for n in range(N)]\n",
    "            X[k,l] = sum(sum(expr,[]))\n",
    "            \n",
    "    return X   \n"
   ]
  },
  {
   "cell_type": "code",
   "execution_count": 120,
   "metadata": {},
   "outputs": [],
   "source": [
    "img_c1 = cv.imread(\"/Users/tobias/discrete_FT/quietscheentchen-lanco-mini.jpg\",0)\n"
   ]
  },
  {
   "cell_type": "code",
   "execution_count": 145,
   "metadata": {},
   "outputs": [],
   "source": [
    "img_c2 = DFT_2D(img_c1)\n",
    "img_c3 = rev_DFT_2D(img_c2)\n"
   ]
  },
  {
   "cell_type": "code",
   "execution_count": 146,
   "metadata": {},
   "outputs": [
    {
     "data": {
      "image/png": "[encoded data removed]",
      "text/plain": [
       "<Figure size 432x288 with 1 Axes>"
      ]
     },
     "metadata": {
      "needs_background": "light"
     },
     "output_type": "display_data"
    },
    {
     "data": {
      "image/png": "[encoded data removed]",
      "text/plain": [
       "<Figure size 432x288 with 1 Axes>"
      ]
     },
     "metadata": {
      "needs_background": "light"
     },
     "output_type": "display_data"
    }
   ],
   "source": [
    "plt.imshow(np.log(1+np.abs(img_c1)),\"gray\"), plt.title (\"Original Image\")\n",
    "plt.show()\n",
    "plt.imshow(np.log(1+np.abs(img_c3)),\"gray\"), plt.title (\"Fourier Transform\")\n",
    "plt.show()\n"
   ]
  }
 ],
 "metadata": {
  "kernelspec": {
   "display_name": "Python 3.10.2 ('coderefinery')",
   "language": "python",
   "name": "python3"
  },
  "language_info": {
   "codemirror_mode": {
    "name": "ipython",
    "version": 3
   },
   "file_extension": ".py",
   "mimetype": "text/x-python",
   "name": "python",
   "nbconvert_exporter": "python",
   "pygments_lexer": "ipython3",
   "version": "3.10.2"
  },
  "orig_nbformat": 4,
  "vscode": {
   "interpreter": {
    "hash": "1a9294f31e37b07f028eab16c0ac6ad27b3a91e603b9560e65533d1883e7a680"
   }
  }
 },
 "nbformat": 4,
 "nbformat_minor": 2
}
